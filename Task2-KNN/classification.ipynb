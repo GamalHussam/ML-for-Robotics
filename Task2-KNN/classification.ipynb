{
 "cells": [
  {
   "cell_type": "code",
   "execution_count": 91,
   "metadata": {},
   "outputs": [],
   "source": [
    "# importing libraries\n",
    "import pandas as pd\n",
    "import matplotlib.pyplot as plt\n",
    "import numpy as np\n",
    "import sklearn as sk"
   ]
  },
  {
   "cell_type": "code",
   "execution_count": 92,
   "metadata": {},
   "outputs": [
    {
     "data": {
      "text/html": [
       "<div>\n",
       "<style scoped>\n",
       "    .dataframe tbody tr th:only-of-type {\n",
       "        vertical-align: middle;\n",
       "    }\n",
       "\n",
       "    .dataframe tbody tr th {\n",
       "        vertical-align: top;\n",
       "    }\n",
       "\n",
       "    .dataframe thead th {\n",
       "        text-align: right;\n",
       "    }\n",
       "</style>\n",
       "<table border=\"1\" class=\"dataframe\">\n",
       "  <thead>\n",
       "    <tr style=\"text-align: right;\">\n",
       "      <th></th>\n",
       "      <th>id</th>\n",
       "      <th>diagnosis_result</th>\n",
       "      <th>radius</th>\n",
       "      <th>texture</th>\n",
       "      <th>perimeter</th>\n",
       "      <th>area</th>\n",
       "      <th>smoothness</th>\n",
       "      <th>compactness</th>\n",
       "      <th>symmetry</th>\n",
       "      <th>fractal_dimension</th>\n",
       "    </tr>\n",
       "  </thead>\n",
       "  <tbody>\n",
       "    <tr>\n",
       "      <th>0</th>\n",
       "      <td>1</td>\n",
       "      <td>M</td>\n",
       "      <td>23</td>\n",
       "      <td>12</td>\n",
       "      <td>151</td>\n",
       "      <td>954</td>\n",
       "      <td>0.143</td>\n",
       "      <td>0.278</td>\n",
       "      <td>0.242</td>\n",
       "      <td>0.079</td>\n",
       "    </tr>\n",
       "    <tr>\n",
       "      <th>1</th>\n",
       "      <td>2</td>\n",
       "      <td>B</td>\n",
       "      <td>9</td>\n",
       "      <td>13</td>\n",
       "      <td>133</td>\n",
       "      <td>1326</td>\n",
       "      <td>0.143</td>\n",
       "      <td>0.079</td>\n",
       "      <td>0.181</td>\n",
       "      <td>0.057</td>\n",
       "    </tr>\n",
       "    <tr>\n",
       "      <th>2</th>\n",
       "      <td>3</td>\n",
       "      <td>M</td>\n",
       "      <td>21</td>\n",
       "      <td>27</td>\n",
       "      <td>130</td>\n",
       "      <td>1203</td>\n",
       "      <td>0.125</td>\n",
       "      <td>0.160</td>\n",
       "      <td>0.207</td>\n",
       "      <td>0.060</td>\n",
       "    </tr>\n",
       "    <tr>\n",
       "      <th>3</th>\n",
       "      <td>4</td>\n",
       "      <td>M</td>\n",
       "      <td>14</td>\n",
       "      <td>16</td>\n",
       "      <td>78</td>\n",
       "      <td>386</td>\n",
       "      <td>0.070</td>\n",
       "      <td>0.284</td>\n",
       "      <td>0.260</td>\n",
       "      <td>0.097</td>\n",
       "    </tr>\n",
       "    <tr>\n",
       "      <th>4</th>\n",
       "      <td>5</td>\n",
       "      <td>M</td>\n",
       "      <td>9</td>\n",
       "      <td>19</td>\n",
       "      <td>135</td>\n",
       "      <td>1297</td>\n",
       "      <td>0.141</td>\n",
       "      <td>0.133</td>\n",
       "      <td>0.181</td>\n",
       "      <td>0.059</td>\n",
       "    </tr>\n",
       "  </tbody>\n",
       "</table>\n",
       "</div>"
      ],
      "text/plain": [
       "   id diagnosis_result  radius  texture  perimeter  area  smoothness  \\\n",
       "0   1                M      23       12        151   954       0.143   \n",
       "1   2                B       9       13        133  1326       0.143   \n",
       "2   3                M      21       27        130  1203       0.125   \n",
       "3   4                M      14       16         78   386       0.070   \n",
       "4   5                M       9       19        135  1297       0.141   \n",
       "\n",
       "   compactness  symmetry  fractal_dimension  \n",
       "0        0.278     0.242              0.079  \n",
       "1        0.079     0.181              0.057  \n",
       "2        0.160     0.207              0.060  \n",
       "3        0.284     0.260              0.097  \n",
       "4        0.133     0.181              0.059  "
      ]
     },
     "execution_count": 92,
     "metadata": {},
     "output_type": "execute_result"
    }
   ],
   "source": [
    "# reading the dataset using pandas\n",
    "\n",
    "df = pd.read_csv(\"./Prostate_Cancer - Prostate_Cancer.csv\")\n",
    "\n",
    "df.head()"
   ]
  },
  {
   "cell_type": "code",
   "execution_count": 93,
   "metadata": {},
   "outputs": [
    {
     "data": {
      "text/plain": [
       "id                     int64\n",
       "diagnosis_result      object\n",
       "radius                 int64\n",
       "texture                int64\n",
       "perimeter              int64\n",
       "area                   int64\n",
       "smoothness           float64\n",
       "compactness          float64\n",
       "symmetry             float64\n",
       "fractal_dimension    float64\n",
       "dtype: object"
      ]
     },
     "execution_count": 93,
     "metadata": {},
     "output_type": "execute_result"
    }
   ],
   "source": [
    "# checking the type of data\n",
    "\n",
    "df.dtypes"
   ]
  },
  {
   "cell_type": "code",
   "execution_count": 94,
   "metadata": {},
   "outputs": [
    {
     "data": {
      "text/html": [
       "<div>\n",
       "<style scoped>\n",
       "    .dataframe tbody tr th:only-of-type {\n",
       "        vertical-align: middle;\n",
       "    }\n",
       "\n",
       "    .dataframe tbody tr th {\n",
       "        vertical-align: top;\n",
       "    }\n",
       "\n",
       "    .dataframe thead th {\n",
       "        text-align: right;\n",
       "    }\n",
       "</style>\n",
       "<table border=\"1\" class=\"dataframe\">\n",
       "  <thead>\n",
       "    <tr style=\"text-align: right;\">\n",
       "      <th></th>\n",
       "      <th>id</th>\n",
       "      <th>radius</th>\n",
       "      <th>texture</th>\n",
       "      <th>perimeter</th>\n",
       "      <th>area</th>\n",
       "      <th>smoothness</th>\n",
       "      <th>compactness</th>\n",
       "      <th>symmetry</th>\n",
       "      <th>fractal_dimension</th>\n",
       "      <th>diagnosis_result_M</th>\n",
       "    </tr>\n",
       "  </thead>\n",
       "  <tbody>\n",
       "    <tr>\n",
       "      <th>0</th>\n",
       "      <td>1</td>\n",
       "      <td>23</td>\n",
       "      <td>12</td>\n",
       "      <td>151</td>\n",
       "      <td>954</td>\n",
       "      <td>0.143</td>\n",
       "      <td>0.278</td>\n",
       "      <td>0.242</td>\n",
       "      <td>0.079</td>\n",
       "      <td>1</td>\n",
       "    </tr>\n",
       "    <tr>\n",
       "      <th>1</th>\n",
       "      <td>2</td>\n",
       "      <td>9</td>\n",
       "      <td>13</td>\n",
       "      <td>133</td>\n",
       "      <td>1326</td>\n",
       "      <td>0.143</td>\n",
       "      <td>0.079</td>\n",
       "      <td>0.181</td>\n",
       "      <td>0.057</td>\n",
       "      <td>0</td>\n",
       "    </tr>\n",
       "    <tr>\n",
       "      <th>2</th>\n",
       "      <td>3</td>\n",
       "      <td>21</td>\n",
       "      <td>27</td>\n",
       "      <td>130</td>\n",
       "      <td>1203</td>\n",
       "      <td>0.125</td>\n",
       "      <td>0.160</td>\n",
       "      <td>0.207</td>\n",
       "      <td>0.060</td>\n",
       "      <td>1</td>\n",
       "    </tr>\n",
       "    <tr>\n",
       "      <th>3</th>\n",
       "      <td>4</td>\n",
       "      <td>14</td>\n",
       "      <td>16</td>\n",
       "      <td>78</td>\n",
       "      <td>386</td>\n",
       "      <td>0.070</td>\n",
       "      <td>0.284</td>\n",
       "      <td>0.260</td>\n",
       "      <td>0.097</td>\n",
       "      <td>1</td>\n",
       "    </tr>\n",
       "    <tr>\n",
       "      <th>4</th>\n",
       "      <td>5</td>\n",
       "      <td>9</td>\n",
       "      <td>19</td>\n",
       "      <td>135</td>\n",
       "      <td>1297</td>\n",
       "      <td>0.141</td>\n",
       "      <td>0.133</td>\n",
       "      <td>0.181</td>\n",
       "      <td>0.059</td>\n",
       "      <td>1</td>\n",
       "    </tr>\n",
       "  </tbody>\n",
       "</table>\n",
       "</div>"
      ],
      "text/plain": [
       "   id  radius  texture  perimeter  area  smoothness  compactness  symmetry  \\\n",
       "0   1      23       12        151   954       0.143        0.278     0.242   \n",
       "1   2       9       13        133  1326       0.143        0.079     0.181   \n",
       "2   3      21       27        130  1203       0.125        0.160     0.207   \n",
       "3   4      14       16         78   386       0.070        0.284     0.260   \n",
       "4   5       9       19        135  1297       0.141        0.133     0.181   \n",
       "\n",
       "   fractal_dimension  diagnosis_result_M  \n",
       "0              0.079                   1  \n",
       "1              0.057                   0  \n",
       "2              0.060                   1  \n",
       "3              0.097                   1  \n",
       "4              0.059                   1  "
      ]
     },
     "execution_count": 94,
     "metadata": {},
     "output_type": "execute_result"
    }
   ],
   "source": [
    "# encoding our data using get dummies function\n",
    "# converting categorical data to numerical\n",
    "\n",
    "encoded_data = pd.get_dummies(df, prefix=\"diagnosis_result\", drop_first=True, dtype=int)\n",
    "encoded_data.head()"
   ]
  },
  {
   "cell_type": "code",
   "execution_count": 95,
   "metadata": {},
   "outputs": [
    {
     "data": {
      "text/plain": [
       "id                    0\n",
       "radius                0\n",
       "texture               0\n",
       "perimeter             0\n",
       "area                  0\n",
       "smoothness            0\n",
       "compactness           0\n",
       "symmetry              0\n",
       "fractal_dimension     0\n",
       "diagnosis_result_M    0\n",
       "dtype: int64"
      ]
     },
     "execution_count": 95,
     "metadata": {},
     "output_type": "execute_result"
    }
   ],
   "source": [
    "# checking if there are null or nan data (missing data)\n",
    "encoded_data.isna().sum()"
   ]
  },
  {
   "cell_type": "markdown",
   "metadata": {},
   "source": [
    "# feature selection"
   ]
  },
  {
   "cell_type": "code",
   "execution_count": 96,
   "metadata": {},
   "outputs": [
    {
     "data": {
      "text/html": [
       "<div>\n",
       "<style scoped>\n",
       "    .dataframe tbody tr th:only-of-type {\n",
       "        vertical-align: middle;\n",
       "    }\n",
       "\n",
       "    .dataframe tbody tr th {\n",
       "        vertical-align: top;\n",
       "    }\n",
       "\n",
       "    .dataframe thead th {\n",
       "        text-align: right;\n",
       "    }\n",
       "</style>\n",
       "<table border=\"1\" class=\"dataframe\">\n",
       "  <thead>\n",
       "    <tr style=\"text-align: right;\">\n",
       "      <th></th>\n",
       "      <th>id</th>\n",
       "      <th>radius</th>\n",
       "      <th>texture</th>\n",
       "      <th>perimeter</th>\n",
       "      <th>area</th>\n",
       "      <th>smoothness</th>\n",
       "      <th>compactness</th>\n",
       "      <th>symmetry</th>\n",
       "      <th>fractal_dimension</th>\n",
       "      <th>diagnosis_result_M</th>\n",
       "    </tr>\n",
       "  </thead>\n",
       "  <tbody>\n",
       "    <tr>\n",
       "      <th>id</th>\n",
       "      <td>1.000000</td>\n",
       "      <td>0.047276</td>\n",
       "      <td>0.052263</td>\n",
       "      <td>-0.215953</td>\n",
       "      <td>-0.174354</td>\n",
       "      <td>-0.258328</td>\n",
       "      <td>-0.277554</td>\n",
       "      <td>-0.222334</td>\n",
       "      <td>-0.164946</td>\n",
       "      <td>-0.316889</td>\n",
       "    </tr>\n",
       "    <tr>\n",
       "      <th>radius</th>\n",
       "      <td>0.047276</td>\n",
       "      <td>1.000000</td>\n",
       "      <td>0.100245</td>\n",
       "      <td>-0.238216</td>\n",
       "      <td>-0.250934</td>\n",
       "      <td>-0.127121</td>\n",
       "      <td>-0.191490</td>\n",
       "      <td>-0.039707</td>\n",
       "      <td>-0.029120</td>\n",
       "      <td>-0.176967</td>\n",
       "    </tr>\n",
       "    <tr>\n",
       "      <th>texture</th>\n",
       "      <td>0.052263</td>\n",
       "      <td>0.100245</td>\n",
       "      <td>1.000000</td>\n",
       "      <td>-0.113453</td>\n",
       "      <td>-0.113725</td>\n",
       "      <td>0.102321</td>\n",
       "      <td>0.032446</td>\n",
       "      <td>0.077912</td>\n",
       "      <td>0.139157</td>\n",
       "      <td>0.070735</td>\n",
       "    </tr>\n",
       "    <tr>\n",
       "      <th>perimeter</th>\n",
       "      <td>-0.215953</td>\n",
       "      <td>-0.238216</td>\n",
       "      <td>-0.113453</td>\n",
       "      <td>1.000000</td>\n",
       "      <td>0.976648</td>\n",
       "      <td>0.269442</td>\n",
       "      <td>0.527542</td>\n",
       "      <td>0.195539</td>\n",
       "      <td>-0.195434</td>\n",
       "      <td>0.607498</td>\n",
       "    </tr>\n",
       "    <tr>\n",
       "      <th>area</th>\n",
       "      <td>-0.174354</td>\n",
       "      <td>-0.250934</td>\n",
       "      <td>-0.113725</td>\n",
       "      <td>0.976648</td>\n",
       "      <td>1.000000</td>\n",
       "      <td>0.208438</td>\n",
       "      <td>0.424950</td>\n",
       "      <td>0.110435</td>\n",
       "      <td>-0.274344</td>\n",
       "      <td>0.562444</td>\n",
       "    </tr>\n",
       "    <tr>\n",
       "      <th>smoothness</th>\n",
       "      <td>-0.258328</td>\n",
       "      <td>-0.127121</td>\n",
       "      <td>0.102321</td>\n",
       "      <td>0.269442</td>\n",
       "      <td>0.208438</td>\n",
       "      <td>1.000000</td>\n",
       "      <td>0.465723</td>\n",
       "      <td>0.424203</td>\n",
       "      <td>0.369580</td>\n",
       "      <td>0.197616</td>\n",
       "    </tr>\n",
       "    <tr>\n",
       "      <th>compactness</th>\n",
       "      <td>-0.277554</td>\n",
       "      <td>-0.191490</td>\n",
       "      <td>0.032446</td>\n",
       "      <td>0.527542</td>\n",
       "      <td>0.424950</td>\n",
       "      <td>0.465723</td>\n",
       "      <td>1.000000</td>\n",
       "      <td>0.681123</td>\n",
       "      <td>0.647953</td>\n",
       "      <td>0.512234</td>\n",
       "    </tr>\n",
       "    <tr>\n",
       "      <th>symmetry</th>\n",
       "      <td>-0.222334</td>\n",
       "      <td>-0.039707</td>\n",
       "      <td>0.077912</td>\n",
       "      <td>0.195539</td>\n",
       "      <td>0.110435</td>\n",
       "      <td>0.424203</td>\n",
       "      <td>0.681123</td>\n",
       "      <td>1.000000</td>\n",
       "      <td>0.568608</td>\n",
       "      <td>0.233028</td>\n",
       "    </tr>\n",
       "    <tr>\n",
       "      <th>fractal_dimension</th>\n",
       "      <td>-0.164946</td>\n",
       "      <td>-0.029120</td>\n",
       "      <td>0.139157</td>\n",
       "      <td>-0.195434</td>\n",
       "      <td>-0.274344</td>\n",
       "      <td>0.369580</td>\n",
       "      <td>0.647953</td>\n",
       "      <td>0.568608</td>\n",
       "      <td>1.000000</td>\n",
       "      <td>0.008180</td>\n",
       "    </tr>\n",
       "    <tr>\n",
       "      <th>diagnosis_result_M</th>\n",
       "      <td>-0.316889</td>\n",
       "      <td>-0.176967</td>\n",
       "      <td>0.070735</td>\n",
       "      <td>0.607498</td>\n",
       "      <td>0.562444</td>\n",
       "      <td>0.197616</td>\n",
       "      <td>0.512234</td>\n",
       "      <td>0.233028</td>\n",
       "      <td>0.008180</td>\n",
       "      <td>1.000000</td>\n",
       "    </tr>\n",
       "  </tbody>\n",
       "</table>\n",
       "</div>"
      ],
      "text/plain": [
       "                          id    radius   texture  perimeter      area  \\\n",
       "id                  1.000000  0.047276  0.052263  -0.215953 -0.174354   \n",
       "radius              0.047276  1.000000  0.100245  -0.238216 -0.250934   \n",
       "texture             0.052263  0.100245  1.000000  -0.113453 -0.113725   \n",
       "perimeter          -0.215953 -0.238216 -0.113453   1.000000  0.976648   \n",
       "area               -0.174354 -0.250934 -0.113725   0.976648  1.000000   \n",
       "smoothness         -0.258328 -0.127121  0.102321   0.269442  0.208438   \n",
       "compactness        -0.277554 -0.191490  0.032446   0.527542  0.424950   \n",
       "symmetry           -0.222334 -0.039707  0.077912   0.195539  0.110435   \n",
       "fractal_dimension  -0.164946 -0.029120  0.139157  -0.195434 -0.274344   \n",
       "diagnosis_result_M -0.316889 -0.176967  0.070735   0.607498  0.562444   \n",
       "\n",
       "                    smoothness  compactness  symmetry  fractal_dimension  \\\n",
       "id                   -0.258328    -0.277554 -0.222334          -0.164946   \n",
       "radius               -0.127121    -0.191490 -0.039707          -0.029120   \n",
       "texture               0.102321     0.032446  0.077912           0.139157   \n",
       "perimeter             0.269442     0.527542  0.195539          -0.195434   \n",
       "area                  0.208438     0.424950  0.110435          -0.274344   \n",
       "smoothness            1.000000     0.465723  0.424203           0.369580   \n",
       "compactness           0.465723     1.000000  0.681123           0.647953   \n",
       "symmetry              0.424203     0.681123  1.000000           0.568608   \n",
       "fractal_dimension     0.369580     0.647953  0.568608           1.000000   \n",
       "diagnosis_result_M    0.197616     0.512234  0.233028           0.008180   \n",
       "\n",
       "                    diagnosis_result_M  \n",
       "id                           -0.316889  \n",
       "radius                       -0.176967  \n",
       "texture                       0.070735  \n",
       "perimeter                     0.607498  \n",
       "area                          0.562444  \n",
       "smoothness                    0.197616  \n",
       "compactness                   0.512234  \n",
       "symmetry                      0.233028  \n",
       "fractal_dimension             0.008180  \n",
       "diagnosis_result_M            1.000000  "
      ]
     },
     "execution_count": 96,
     "metadata": {},
     "output_type": "execute_result"
    }
   ],
   "source": [
    "\"\"\"\n",
    "Correlation indicates the eXtent to which two or more variables fluctuate together. The value of correlation is scaled, within -1 to 1. The closer to 1 the more powerful the connection between the two variables, the lower the relationship closer to 0.\n",
    "\"\"\"\n",
    "encoded_data.corr()\n",
    "\n",
    "# as we can see we can ignore fractal_dimension, texture"
   ]
  },
  {
   "cell_type": "code",
   "execution_count": 97,
   "metadata": {},
   "outputs": [
    {
     "data": {
      "text/html": [
       "<div>\n",
       "<style scoped>\n",
       "    .dataframe tbody tr th:only-of-type {\n",
       "        vertical-align: middle;\n",
       "    }\n",
       "\n",
       "    .dataframe tbody tr th {\n",
       "        vertical-align: top;\n",
       "    }\n",
       "\n",
       "    .dataframe thead th {\n",
       "        text-align: right;\n",
       "    }\n",
       "</style>\n",
       "<table border=\"1\" class=\"dataframe\">\n",
       "  <thead>\n",
       "    <tr style=\"text-align: right;\">\n",
       "      <th></th>\n",
       "      <th>radius</th>\n",
       "      <th>perimeter</th>\n",
       "      <th>area</th>\n",
       "      <th>smoothness</th>\n",
       "      <th>compactness</th>\n",
       "      <th>symmetry</th>\n",
       "    </tr>\n",
       "  </thead>\n",
       "  <tbody>\n",
       "    <tr>\n",
       "      <th>0</th>\n",
       "      <td>23</td>\n",
       "      <td>151</td>\n",
       "      <td>954</td>\n",
       "      <td>0.143</td>\n",
       "      <td>0.278</td>\n",
       "      <td>0.242</td>\n",
       "    </tr>\n",
       "    <tr>\n",
       "      <th>1</th>\n",
       "      <td>9</td>\n",
       "      <td>133</td>\n",
       "      <td>1326</td>\n",
       "      <td>0.143</td>\n",
       "      <td>0.079</td>\n",
       "      <td>0.181</td>\n",
       "    </tr>\n",
       "    <tr>\n",
       "      <th>2</th>\n",
       "      <td>21</td>\n",
       "      <td>130</td>\n",
       "      <td>1203</td>\n",
       "      <td>0.125</td>\n",
       "      <td>0.160</td>\n",
       "      <td>0.207</td>\n",
       "    </tr>\n",
       "    <tr>\n",
       "      <th>3</th>\n",
       "      <td>14</td>\n",
       "      <td>78</td>\n",
       "      <td>386</td>\n",
       "      <td>0.070</td>\n",
       "      <td>0.284</td>\n",
       "      <td>0.260</td>\n",
       "    </tr>\n",
       "    <tr>\n",
       "      <th>4</th>\n",
       "      <td>9</td>\n",
       "      <td>135</td>\n",
       "      <td>1297</td>\n",
       "      <td>0.141</td>\n",
       "      <td>0.133</td>\n",
       "      <td>0.181</td>\n",
       "    </tr>\n",
       "  </tbody>\n",
       "</table>\n",
       "</div>"
      ],
      "text/plain": [
       "   radius  perimeter  area  smoothness  compactness  symmetry\n",
       "0      23        151   954       0.143        0.278     0.242\n",
       "1       9        133  1326       0.143        0.079     0.181\n",
       "2      21        130  1203       0.125        0.160     0.207\n",
       "3      14         78   386       0.070        0.284     0.260\n",
       "4       9        135  1297       0.141        0.133     0.181"
      ]
     },
     "execution_count": 97,
     "metadata": {},
     "output_type": "execute_result"
    }
   ],
   "source": [
    "# splitting our data\n",
    "# as we know that the id can't consider as a feature for our model\n",
    "X = encoded_data.drop([\"id\", \"texture\", \"fractal_dimension\", \"diagnosis_result_M\"], axis = 1)\n",
    "X.head()"
   ]
  },
  {
   "cell_type": "code",
   "execution_count": 98,
   "metadata": {},
   "outputs": [
    {
     "data": {
      "text/plain": [
       "0    1\n",
       "1    0\n",
       "2    1\n",
       "3    1\n",
       "4    1\n",
       "Name: diagnosis_result_M, dtype: int64"
      ]
     },
     "execution_count": 98,
     "metadata": {},
     "output_type": "execute_result"
    }
   ],
   "source": [
    "y = encoded_data[\"diagnosis_result_M\"]\n",
    "y.head()"
   ]
  },
  {
   "cell_type": "markdown",
   "metadata": {},
   "source": [
    "# outliers"
   ]
  },
  {
   "cell_type": "code",
   "execution_count": 99,
   "metadata": {},
   "outputs": [
    {
     "data": {
      "text/html": [
       "<div>\n",
       "<style scoped>\n",
       "    .dataframe tbody tr th:only-of-type {\n",
       "        vertical-align: middle;\n",
       "    }\n",
       "\n",
       "    .dataframe tbody tr th {\n",
       "        vertical-align: top;\n",
       "    }\n",
       "\n",
       "    .dataframe thead th {\n",
       "        text-align: right;\n",
       "    }\n",
       "</style>\n",
       "<table border=\"1\" class=\"dataframe\">\n",
       "  <thead>\n",
       "    <tr style=\"text-align: right;\">\n",
       "      <th></th>\n",
       "      <th>radius</th>\n",
       "      <th>perimeter</th>\n",
       "      <th>area</th>\n",
       "      <th>smoothness</th>\n",
       "      <th>compactness</th>\n",
       "      <th>symmetry</th>\n",
       "    </tr>\n",
       "  </thead>\n",
       "  <tbody>\n",
       "    <tr>\n",
       "      <th>count</th>\n",
       "      <td>100.000000</td>\n",
       "      <td>100.000000</td>\n",
       "      <td>100.000000</td>\n",
       "      <td>100.000000</td>\n",
       "      <td>100.000000</td>\n",
       "      <td>100.000000</td>\n",
       "    </tr>\n",
       "    <tr>\n",
       "      <th>mean</th>\n",
       "      <td>16.850000</td>\n",
       "      <td>96.780000</td>\n",
       "      <td>702.880000</td>\n",
       "      <td>0.102730</td>\n",
       "      <td>0.126700</td>\n",
       "      <td>0.193170</td>\n",
       "    </tr>\n",
       "    <tr>\n",
       "      <th>std</th>\n",
       "      <td>4.879094</td>\n",
       "      <td>23.676089</td>\n",
       "      <td>319.710895</td>\n",
       "      <td>0.014642</td>\n",
       "      <td>0.061144</td>\n",
       "      <td>0.030785</td>\n",
       "    </tr>\n",
       "    <tr>\n",
       "      <th>min</th>\n",
       "      <td>9.000000</td>\n",
       "      <td>52.000000</td>\n",
       "      <td>202.000000</td>\n",
       "      <td>0.070000</td>\n",
       "      <td>0.038000</td>\n",
       "      <td>0.135000</td>\n",
       "    </tr>\n",
       "    <tr>\n",
       "      <th>25%</th>\n",
       "      <td>12.000000</td>\n",
       "      <td>82.500000</td>\n",
       "      <td>476.750000</td>\n",
       "      <td>0.093500</td>\n",
       "      <td>0.080500</td>\n",
       "      <td>0.172000</td>\n",
       "    </tr>\n",
       "    <tr>\n",
       "      <th>50%</th>\n",
       "      <td>17.000000</td>\n",
       "      <td>94.000000</td>\n",
       "      <td>644.000000</td>\n",
       "      <td>0.102000</td>\n",
       "      <td>0.118500</td>\n",
       "      <td>0.190000</td>\n",
       "    </tr>\n",
       "    <tr>\n",
       "      <th>75%</th>\n",
       "      <td>21.000000</td>\n",
       "      <td>114.250000</td>\n",
       "      <td>917.000000</td>\n",
       "      <td>0.112000</td>\n",
       "      <td>0.157000</td>\n",
       "      <td>0.209000</td>\n",
       "    </tr>\n",
       "    <tr>\n",
       "      <th>max</th>\n",
       "      <td>25.000000</td>\n",
       "      <td>172.000000</td>\n",
       "      <td>1878.000000</td>\n",
       "      <td>0.143000</td>\n",
       "      <td>0.345000</td>\n",
       "      <td>0.304000</td>\n",
       "    </tr>\n",
       "  </tbody>\n",
       "</table>\n",
       "</div>"
      ],
      "text/plain": [
       "           radius   perimeter         area  smoothness  compactness  \\\n",
       "count  100.000000  100.000000   100.000000  100.000000   100.000000   \n",
       "mean    16.850000   96.780000   702.880000    0.102730     0.126700   \n",
       "std      4.879094   23.676089   319.710895    0.014642     0.061144   \n",
       "min      9.000000   52.000000   202.000000    0.070000     0.038000   \n",
       "25%     12.000000   82.500000   476.750000    0.093500     0.080500   \n",
       "50%     17.000000   94.000000   644.000000    0.102000     0.118500   \n",
       "75%     21.000000  114.250000   917.000000    0.112000     0.157000   \n",
       "max     25.000000  172.000000  1878.000000    0.143000     0.345000   \n",
       "\n",
       "         symmetry  \n",
       "count  100.000000  \n",
       "mean     0.193170  \n",
       "std      0.030785  \n",
       "min      0.135000  \n",
       "25%      0.172000  \n",
       "50%      0.190000  \n",
       "75%      0.209000  \n",
       "max      0.304000  "
      ]
     },
     "execution_count": 99,
     "metadata": {},
     "output_type": "execute_result"
    }
   ],
   "source": [
    "# using sorting to check if there are outliers\n",
    "X.describe()\n",
    "\n",
    "# from the data by comparing min val and max val with mean\n",
    "# outliers are in area, compactness and perimeter\n",
    "# may be in symmetry and smoothness"
   ]
  },
  {
   "cell_type": "code",
   "execution_count": 100,
   "metadata": {},
   "outputs": [
    {
     "data": {
      "text/plain": [
       "Text(0.5, 1.0, 'symmetry')"
      ]
     },
     "execution_count": 100,
     "metadata": {},
     "output_type": "execute_result"
    },
    {
     "data": {
      "image/png": "[encoded data removed]",
      "text/plain": [
       "<Figure size 800x900 with 6 Axes>"
      ]
     },
     "metadata": {},
     "output_type": "display_data"
    }
   ],
   "source": [
    "# checking outliers using box plot\n",
    "fig, axs = plt.subplots(nrows=3, ncols=2, figsize=(8,9))\n",
    "fig.tight_layout(pad=3) # for padding\n",
    "\n",
    "axs[0, 0].boxplot(X[\"radius\"])\n",
    "axs[0, 0].set_title(\"radius\")\n",
    "\n",
    "axs[1, 0].boxplot(X[\"perimeter\"])\n",
    "axs[1, 0].set_title(\"perimeter\")\n",
    "\n",
    "axs[2, 0].boxplot(X[\"area\"])\n",
    "axs[2, 0].set_title(\"area\")\n",
    "\n",
    "axs[0, 1].boxplot(X[\"smoothness\"])\n",
    "axs[0, 1].set_title(\"smoothness\")\n",
    "\n",
    "axs[1, 1].boxplot(X[\"compactness\"])\n",
    "axs[1, 1].set_title(\"compactness\")\n",
    "\n",
    "axs[2, 1].boxplot(X[\"symmetry\"])\n",
    "axs[2, 1].set_title(\"symmetry\")\n"
   ]
  },
  {
   "cell_type": "code",
   "execution_count": 101,
   "metadata": {},
   "outputs": [
    {
     "data": {
      "text/plain": [
       "[161.875, 1577.375, 0.13975, 0.27175, 0.2645]"
      ]
     },
     "execution_count": 101,
     "metadata": {},
     "output_type": "execute_result"
    }
   ],
   "source": [
    "# a function to detect outliers using IQR\n",
    "def detect_upper_fence(data):\n",
    "    upper_fence_list = []\n",
    "    for col in data.columns:\n",
    "        Q1 = data[col].quantile(0.25)\n",
    "        Q3 = data[col].quantile(0.75)\n",
    "\n",
    "        IQR = Q3 - Q1\n",
    "        upper_fence = Q3 + 1.5 * IQR\n",
    "        upper_fence_list.append(upper_fence)\n",
    "\n",
    "    return upper_fence_list\n",
    "\n",
    "limit = detect_upper_fence(X.drop(\"radius\", axis=1))\n",
    "limit"
   ]
  },
  {
   "cell_type": "code",
   "execution_count": 102,
   "metadata": {},
   "outputs": [],
   "source": [
    "# a function that replaces outliers with median values\n",
    "def replace_outliers(data, limit):\n",
    "    for value in data:\n",
    "        if (value > limit):\n",
    "            data = data.replace([value], data.median())\n",
    "\n",
    "    return data"
   ]
  },
  {
   "cell_type": "code",
   "execution_count": 103,
   "metadata": {},
   "outputs": [],
   "source": [
    "# apply replace function\n",
    "count = 0\n",
    "for col in X.drop(\"radius\", axis=1):\n",
    "    X[col] = replace_outliers(X[col], limit[count])\n",
    "    count += 1"
   ]
  },
  {
   "cell_type": "code",
   "execution_count": 104,
   "metadata": {},
   "outputs": [
    {
     "data": {
      "image/png": "[encoded data removed]",
      "text/plain": [
       "<Figure size 640x480 with 1 Axes>"
      ]
     },
     "metadata": {},
     "output_type": "display_data"
    },
    {
     "data": {
      "text/html": [
       "<div>\n",
       "<style scoped>\n",
       "    .dataframe tbody tr th:only-of-type {\n",
       "        vertical-align: middle;\n",
       "    }\n",
       "\n",
       "    .dataframe tbody tr th {\n",
       "        vertical-align: top;\n",
       "    }\n",
       "\n",
       "    .dataframe thead th {\n",
       "        text-align: right;\n",
       "    }\n",
       "</style>\n",
       "<table border=\"1\" class=\"dataframe\">\n",
       "  <thead>\n",
       "    <tr style=\"text-align: right;\">\n",
       "      <th></th>\n",
       "      <th>radius</th>\n",
       "      <th>perimeter</th>\n",
       "      <th>area</th>\n",
       "      <th>smoothness</th>\n",
       "      <th>compactness</th>\n",
       "      <th>symmetry</th>\n",
       "    </tr>\n",
       "  </thead>\n",
       "  <tbody>\n",
       "    <tr>\n",
       "      <th>0</th>\n",
       "      <td>0.8750</td>\n",
       "      <td>1.000000</td>\n",
       "      <td>0.625624</td>\n",
       "      <td>0.542373</td>\n",
       "      <td>0.351528</td>\n",
       "      <td>0.856</td>\n",
       "    </tr>\n",
       "    <tr>\n",
       "      <th>1</th>\n",
       "      <td>0.0000</td>\n",
       "      <td>0.818182</td>\n",
       "      <td>0.935108</td>\n",
       "      <td>0.542373</td>\n",
       "      <td>0.179039</td>\n",
       "      <td>0.368</td>\n",
       "    </tr>\n",
       "    <tr>\n",
       "      <th>2</th>\n",
       "      <td>0.7500</td>\n",
       "      <td>0.787879</td>\n",
       "      <td>0.832779</td>\n",
       "      <td>0.932203</td>\n",
       "      <td>0.532751</td>\n",
       "      <td>0.576</td>\n",
       "    </tr>\n",
       "    <tr>\n",
       "      <th>3</th>\n",
       "      <td>0.3125</td>\n",
       "      <td>0.262626</td>\n",
       "      <td>0.153078</td>\n",
       "      <td>0.000000</td>\n",
       "      <td>0.346070</td>\n",
       "      <td>1.000</td>\n",
       "    </tr>\n",
       "    <tr>\n",
       "      <th>4</th>\n",
       "      <td>0.0000</td>\n",
       "      <td>0.838384</td>\n",
       "      <td>0.910982</td>\n",
       "      <td>0.542373</td>\n",
       "      <td>0.414847</td>\n",
       "      <td>0.368</td>\n",
       "    </tr>\n",
       "  </tbody>\n",
       "</table>\n",
       "</div>"
      ],
      "text/plain": [
       "   radius  perimeter      area  smoothness  compactness  symmetry\n",
       "0  0.8750   1.000000  0.625624    0.542373     0.351528     0.856\n",
       "1  0.0000   0.818182  0.935108    0.542373     0.179039     0.368\n",
       "2  0.7500   0.787879  0.832779    0.932203     0.532751     0.576\n",
       "3  0.3125   0.262626  0.153078    0.000000     0.346070     1.000\n",
       "4  0.0000   0.838384  0.910982    0.542373     0.414847     0.368"
      ]
     },
     "execution_count": 104,
     "metadata": {},
     "output_type": "execute_result"
    }
   ],
   "source": [
    "# normalize the data\n",
    "X = (X - X.min()) / (X.max() - X.min())\n",
    "plt.boxplot(X)\n",
    "plt.show()\n",
    "X.head()"
   ]
  },
  {
   "cell_type": "markdown",
   "metadata": {},
   "source": [
    "# Sklearn"
   ]
  },
  {
   "cell_type": "markdown",
   "metadata": {},
   "source": [
    "## KNN"
   ]
  },
  {
   "cell_type": "code",
   "execution_count": 105,
   "metadata": {},
   "outputs": [],
   "source": [
    "# spliting the data into test and train 25% test\n",
    "from sklearn.model_selection import train_test_split\n",
    "\n",
    "# training our model\n",
    "from sklearn.neighbors import KNeighborsClassifier\n",
    "\n",
    "# confusion matrix and model efficiency\n",
    "from sklearn.metrics import confusion_matrix\n",
    "from sklearn.neighbors import RadiusNeighborsClassifier"
   ]
  },
  {
   "cell_type": "code",
   "execution_count": 106,
   "metadata": {},
   "outputs": [
    {
     "data": {
      "text/plain": [
       "array([1, 1, 1, 1, 1, 1, 1, 1, 1, 1, 1, 0, 1, 1, 1, 0, 0, 1, 0, 0, 1, 1,\n",
       "       0, 0, 0])"
      ]
     },
     "execution_count": 106,
     "metadata": {},
     "output_type": "execute_result"
    }
   ],
   "source": [
    "X_train, X_test, y_train, y_test = train_test_split(X, y, test_size=0.25, random_state=2)\n",
    "\n",
    "# fitting our data\n",
    "knn = KNeighborsClassifier(n_neighbors=5)\n",
    "knn.fit(X_train, y_train)\n",
    "\n",
    "# predicting\n",
    "y_pred = knn.predict(X_test)\n",
    "\n",
    "y_pred\n"
   ]
  },
  {
   "cell_type": "code",
   "execution_count": 108,
   "metadata": {},
   "outputs": [
    {
     "name": "stdout",
     "output_type": "stream",
     "text": [
      "Confusion Matrix:\n",
      "[[ 5  1]\n",
      " [ 3 16]]\n",
      "\n",
      "Accuracy: 0.84\n",
      "\n",
      "Sensitivity: 0.9411764705882353\n",
      "\n",
      "Specificity: 0.625\n"
     ]
    }
   ],
   "source": [
    "# classifier Results\n",
    "\n",
    "print(\"Confusion Matrix:\")\n",
    "cm = confusion_matrix(y_test, y_pred)\n",
    "print(cm)\n",
    "\n",
    "Accuracy = (cm[0,0]+ cm[1,1])/ (cm[0,0]+ cm[0,1] + cm[1,0]+ cm[1,1])\n",
    "print(\"\\nAccuracy: \" + str(Accuracy)) # accuracy as a metric\n",
    "\n",
    "Sensitivity = cm[1,1]/(cm[1,1] + cm[0,1])\n",
    "print(\"\\nSensitivity: \" + str(Sensitivity))\n",
    "\n",
    "Specificity = cm[0,0]/(cm[0,0] + cm[1,0])\n",
    "print(\"\\nSpecificity: \" + str(Specificity))"
   ]
  },
  {
   "cell_type": "markdown",
   "metadata": {},
   "source": [
    "## RNN"
   ]
  },
  {
   "cell_type": "code",
   "execution_count": 110,
   "metadata": {},
   "outputs": [
    {
     "data": {
      "text/plain": [
       "array([1, 1, 1, 1, 0, 1, 1, 1, 1, 1, 1, 0, 1, 1, 1, 0, 0, 1, 0, 0, 1, 1,\n",
       "       0, 0, 0])"
      ]
     },
     "execution_count": 110,
     "metadata": {},
     "output_type": "execute_result"
    }
   ],
   "source": [
    "rnn = RadiusNeighborsClassifier(radius=0.7)\n",
    "rnn.fit(X_train, y_train)\n",
    "y_pred2 = rnn.predict(X_test)\n",
    "\n",
    "y_pred2"
   ]
  },
  {
   "cell_type": "code",
   "execution_count": 111,
   "metadata": {},
   "outputs": [
    {
     "name": "stdout",
     "output_type": "stream",
     "text": [
      "Confusion Matrix:\n",
      "[[ 5  1]\n",
      " [ 4 15]]\n",
      "\n",
      "Accuracy: 0.8\n",
      "\n",
      "Sensitivity: 0.9375\n",
      "\n",
      "Specificity: 0.5555555555555556\n"
     ]
    }
   ],
   "source": [
    "# confusion matrix and model efficiency\n",
    "\n",
    "print(\"Confusion Matrix:\")\n",
    "cm2 = confusion_matrix(y_test, y_pred2)\n",
    "print(cm2)\n",
    "\n",
    "Accuracy = (cm2[0,0]+ cm2[1,1])/ (cm2[0,0]+ cm2[0,1] + cm2[1,0]+ cm2[1,1])\n",
    "print(\"\\nAccuracy: \" + str(Accuracy)) # accuracy as a metric\n",
    "\n",
    "Sensitivity = cm2[1,1]/(cm2[1,1] + cm2[0,1])\n",
    "print(\"\\nSensitivity: \" + str(Sensitivity))\n",
    "\n",
    "Specificity = cm2[0,0]/(cm2[0,0] + cm2[1,0])\n",
    "print(\"\\nSpecificity: \" + str(Specificity))"
   ]
  },
  {
   "cell_type": "markdown",
   "metadata": {},
   "source": [
    "# From Scratch"
   ]
  },
  {
   "cell_type": "markdown",
   "metadata": {},
   "source": [
    "## KNN"
   ]
  },
  {
   "cell_type": "code",
   "execution_count": 112,
   "metadata": {},
   "outputs": [],
   "source": [
    "# calculates the Euclidean distance\n",
    "def euclidean_distance(x_new, x_old):\n",
    "    return np.sqrt(np.sum((x_new - x_old) ** 2))\n",
    "\n",
    "def knn_predict(X_train, y_train, X_test, k):\n",
    "    y_pred = []\n",
    "    for i in range(len(X_test)):\n",
    "        distances = []\n",
    "        for j in range(len(X_train)):\n",
    "            dist = euclidean_distance(X_test.iloc[i], X_train.iloc[j])\n",
    "            distances.append((dist, y_train.iloc[j]))\n",
    "\n",
    "        # sort based on the first element (the distance)\n",
    "        distances.sort(key=lambda x: x[0])\n",
    "\n",
    "        k_nearest_labels = [label for (value, label) in distances[:k]]\n",
    "        most_common = max(set(k_nearest_labels), key=k_nearest_labels.count)\n",
    "        y_pred.append(most_common)\n",
    "    return y_pred"
   ]
  },
  {
   "cell_type": "code",
   "execution_count": 115,
   "metadata": {},
   "outputs": [
    {
     "data": {
      "text/plain": [
       "[1, 1, 1, 1, 1, 1, 1, 1, 1, 1, 1, 0, 1, 1, 1, 0, 0, 1, 0, 0, 1, 1, 0, 0, 0]"
      ]
     },
     "execution_count": 115,
     "metadata": {},
     "output_type": "execute_result"
    }
   ],
   "source": [
    "y_pred3 = knn_predict(X_train, y_train, X_test, 5)\n",
    "y_pred3"
   ]
  },
  {
   "cell_type": "code",
   "execution_count": 125,
   "metadata": {},
   "outputs": [],
   "source": [
    "# Confusion matrix from scratch\n",
    "def confusion_scratch(y_test, y_pred):\n",
    "\n",
    "    # Initialize counters\n",
    "    count_00 = count_01 = count_10 = count_11 = 0\n",
    "\n",
    "    for i in range(len(y_test)):\n",
    "        if y_test[i] == y_pred[i]:\n",
    "            if y_test[i] == 0:\n",
    "                count_00 += 1\n",
    "            else:\n",
    "                count_11 += 1\n",
    "        elif y_test[i] == 1:\n",
    "            count_10 += 1\n",
    "        else:\n",
    "            count_01 += 1\n",
    "    matrix = np.array([[count_00, count_01], [count_10, count_11]])\n",
    "    return matrix"
   ]
  },
  {
   "cell_type": "code",
   "execution_count": 126,
   "metadata": {},
   "outputs": [
    {
     "name": "stdout",
     "output_type": "stream",
     "text": [
      "Confusion Matrix:\n",
      "[[ 5  1]\n",
      " [ 4 15]]\n",
      "\n",
      "Accuracy: 0.8\n",
      "\n",
      "Sensitivity: 0.9375\n",
      "\n",
      "Specificity: 0.5555555555555556\n"
     ]
    }
   ],
   "source": [
    "print(\"Confusion Matrix:\")\n",
    "cm3 = confusion_scratch(y_test.tolist(), y_pred2)\n",
    "print(cm3)\n",
    "\n",
    "Accuracy = (cm3[0,0]+ cm3[1,1])/ (cm3[0,0]+ cm3[0,1] + cm3[1,0]+ cm3[1,1])\n",
    "print(\"\\nAccuracy: \" + str(Accuracy)) # accuracy as a metric\n",
    "\n",
    "Sensitivity = cm3[1,1]/(cm3[1,1] + cm3[0,1])\n",
    "print(\"\\nSensitivity: \" + str(Sensitivity))\n",
    "\n",
    "Specificity = cm3[0,0]/(cm3[0,0] + cm3[1,0])\n",
    "print(\"\\nSpecificity: \" + str(Specificity))"
   ]
  },
  {
   "cell_type": "markdown",
   "metadata": {},
   "source": [
    "## RNN"
   ]
  },
  {
   "cell_type": "code",
   "execution_count": 121,
   "metadata": {},
   "outputs": [],
   "source": [
    "def rnn_predict(X_train, y_train, X_test, r):\n",
    "    y_pred = []\n",
    "    for i in range(len(X_test)):\n",
    "        distances = []\n",
    "        for j in range(len(X_train)):\n",
    "            dist = euclidean_distance(X_test.iloc[i], X_train.iloc[j])\n",
    "            if (dist <= r):\n",
    "                distances.append((dist, y_train.iloc[j]))\n",
    "\n",
    "        r_nearest_labels = [label for (value, label) in distances]\n",
    "        most_common = max(set(r_nearest_labels), key=r_nearest_labels.count)\n",
    "        y_pred.append(most_common)\n",
    "    return y_pred"
   ]
  },
  {
   "cell_type": "code",
   "execution_count": 123,
   "metadata": {},
   "outputs": [
    {
     "data": {
      "text/plain": [
       "[1, 1, 1, 1, 0, 1, 1, 1, 1, 1, 1, 0, 1, 1, 1, 0, 0, 1, 0, 0, 1, 1, 0, 0, 0]"
      ]
     },
     "execution_count": 123,
     "metadata": {},
     "output_type": "execute_result"
    }
   ],
   "source": [
    "y_pred4 = rnn_predict(X_train, y_train, X_test, 0.7)\n",
    "y_pred4"
   ]
  },
  {
   "cell_type": "code",
   "execution_count": 124,
   "metadata": {},
   "outputs": [
    {
     "name": "stdout",
     "output_type": "stream",
     "text": [
      "Confusion Matrix:\n",
      "[[ 5  1]\n",
      " [ 4 15]]\n",
      "\n",
      "Accuracy: 0.8\n",
      "\n",
      "Sensitivity: 0.9375\n",
      "\n",
      "Specificity: 0.5555555555555556\n"
     ]
    }
   ],
   "source": [
    "print(\"Confusion Matrix:\")\n",
    "cm4 = confusion_scratch(y_test.tolist(), y_pred4)\n",
    "print(cm4)\n",
    "\n",
    "Accuracy = (cm4[0,0]+ cm4[1,1])/ (cm4[0,0]+ cm4[0,1] + cm4[1,0]+ cm4[1,1])\n",
    "print(\"\\nAccuracy: \" + str(Accuracy)) # accuracy as a metric\n",
    "\n",
    "Sensitivity = cm4[1,1]/(cm4[1,1] + cm4[0,1])\n",
    "print(\"\\nSensitivity: \" + str(Sensitivity))\n",
    "\n",
    "Specificity = cm4[0,0]/(cm4[0,0] + cm4[1,0])\n",
    "print(\"\\nSpecificity: \" + str(Specificity))"
   ]
  }
 ],
 "metadata": {
  "kernelspec": {
   "display_name": "Python 3",
   "language": "python",
   "name": "python3"
  },
  "language_info": {
   "codemirror_mode": {
    "name": "ipython",
    "version": 3
   },
   "file_extension": ".py",
   "mimetype": "text/x-python",
   "name": "python",
   "nbconvert_exporter": "python",
   "pygments_lexer": "ipython3",
   "version": "3.10.12"
  }
 },
 "nbformat": 4,
 "nbformat_minor": 2
}
